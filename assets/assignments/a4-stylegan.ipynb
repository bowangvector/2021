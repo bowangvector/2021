{
  "nbformat": 4,
  "nbformat_minor": 0,
  "metadata": {
    "accelerator": "GPU",
    "colab": {
      "name": "PA4 Part 2: StyleGAN2",
      "provenance": [],
      "collapsed_sections": []
    },
    "kernelspec": {
      "display_name": "Python 3",
      "name": "python3"
    }
  },
  "cells": [
    {
      "cell_type": "markdown",
      "metadata": {
        "id": "1YkGmGCi6oRu"
      },
      "source": [
        "## **University of Toronto - CSC413 - Neural Networks and Deep Learning** \r\n",
        "## **Programming Assignment 4 - StyleGAN2-Ada**\r\n",
        "\r\n",
        "This is a self-contained notebook that allows you to play around with a pre-trained StyleGAN2-Ada generator\r\n",
        "\r\n",
        "Disclaimer: Some codes were borrowed from StyleGAN official documentation on Github https://github.com/NVlabs/stylegan\r\n",
        "\r\n",
        "Make sure to set your runtime to GPU\r\n",
        "\r\n",
        "Remember to save your progress periodically!"
      ]
    },
    {
      "cell_type": "code",
      "metadata": {
        "id": "6-W5eReUVPnS"
      },
      "source": [
        "# Run this for Google CoLab (use TensorFlow 1.x)\r\n",
        "%tensorflow_version 1.x\r\n",
        "\r\n",
        "# clone StyleGAN2 Ada\r\n",
        "!git clone https://github.com/NVlabs/stylegan2-ada.git"
      ],
      "execution_count": null,
      "outputs": []
    },
    {
      "cell_type": "code",
      "metadata": {
        "id": "iVNM_ERtVxA1"
      },
      "source": [
        "#setup some environments (Do not change any of the following)\r\n",
        "import sys\r\n",
        "import pickle\r\n",
        "import os\r\n",
        "import numpy as np\r\n",
        "from IPython.display import Image\r\n",
        "import PIL.Image\r\n",
        "from PIL import Image\r\n",
        "import matplotlib.pyplot as plt\r\n",
        "\r\n",
        "sys.path.insert(0, \"/content/stylegan2-ada\") #do not remove this line\r\n",
        "\r\n",
        "import dnnlib\r\n",
        "import dnnlib.tflib as tflib\r\n",
        "import IPython.display\r\n",
        "from google.colab import files"
      ],
      "execution_count": null,
      "outputs": []
    },
    {
      "cell_type": "markdown",
      "metadata": {
        "id": "DhU-cjsC6CdN"
      },
      "source": [
        "Next, we will load a pre-trained StyleGan2-ada network.\r\n",
        "\r\n",
        "Each of the following pre-trained network is specialized to generate one type of image."
      ]
    },
    {
      "cell_type": "code",
      "metadata": {
        "id": "ENrDl7ZTddyT"
      },
      "source": [
        "# The pre-trained networks are stored as standard pickle files\r\n",
        "# Uncomment one of the following URL to begin\r\n",
        "# If you wish, you can also find other pre-trained networks online\r\n",
        "\r\n",
        "#URL = \"https://nvlabs-fi-cdn.nvidia.com/stylegan2-ada/pretrained/ffhq.pkl\"      # Human faces\r\n",
        "#URL = \"https://nvlabs-fi-cdn.nvidia.com/stylegan2-ada/pretrained/cifar10.pkl\"  # CIFAR10, these images are a bit too tiny for our experiment \r\n",
        "#URL = \"https://nvlabs-fi-cdn.nvidia.com/stylegan2-ada/pretrained/afhqwild.pkl\" # wild animal pictures\r\n",
        "#URL = \"https://nvlabs-fi-cdn.nvidia.com/stylegan2-ada/pretrained/metfaces.pkl\" # European portrait paintings\r\n",
        "#URL = \"https://nvlabs-fi-cdn.nvidia.com/stylegan2-ada/pretrained/afhqcat.pkl\"  # cats\r\n",
        "#URL = \"https://nvlabs-fi-cdn.nvidia.com/stylegan2-ada/pretrained/afhqdog.pkl\"  # dogs\r\n",
        "tflib.init_tf() #this creates a default Tensorflow session\r\n",
        "\r\n",
        "# we are now going to load the StyleGAN2-Ada model \r\n",
        "# The following code downloads the file and unpickles it to yield 3 instances of dnnlib.tflib.Network. \r\n",
        "with dnnlib.util.open_url(URL) as fp:\r\n",
        "    _G, _D, Gs = pickle.load(fp) \r\n",
        "# Here is a brief description of _G, _D, Gs, for details see the official StyleGAN documentation \r\n",
        "# _G = Instantaneous snapshot of the generator. Mainly useful for resuming a previous training run.\r\n",
        "# _D = Instantaneous snapshot of the discriminator. Mainly useful for resuming a previous training run.\r\n",
        "# Gs = Long-term average of the generator. Yields higher-quality results than the instantaneous snapshot.\r\n",
        "# We will work with Gs "
      ],
      "execution_count": null,
      "outputs": []
    },
    {
      "cell_type": "markdown",
      "metadata": {
        "id": "Mk3EKnIyckPE"
      },
      "source": [
        "## Part 1 Sampling and Identifying Fakes \r\n",
        "\r\n",
        "Open: https://github.com/NVlabs/stylegan and follow the instructions starting from *There are three ways to use the pre-trained generator....*\r\n",
        "\r\n",
        "Complete generate_latent_code and generate_images function in the Colab notebook to generate a small row of $3 - 5$ images. \r\n",
        "\r\n",
        "You do not need to include these images into your PDF submission. \r\n",
        "\r\n",
        "If you wish, you can try to use https://www.whichfaceisreal.com/learn.html as a guideline to spot any imperfections that you detect in these images, e.g., ``blob artifact\" and make a short remark for your attached images. "
      ]
    },
    {
      "cell_type": "code",
      "metadata": {
        "id": "N7eAfVJDiB0y"
      },
      "source": [
        "# Sample a batch of latent codes {z_1, ...., z_B}, B is your batch size.  \r\n",
        "def generate_latent_code(SEED, BATCH, LATENT_DIMENSION = 512):\r\n",
        "  \"\"\"\r\n",
        "  This function returns a sample a batch of 512 dimensional random latent code\r\n",
        "\r\n",
        "  - SEED: int\r\n",
        "  - BATCH: int that specifies the number of latent codes, Recommended batch_size is 3 - 6\r\n",
        "  - LATENT_DIMENSION is by default 512 (see Karras et al.)\r\n",
        "  \r\n",
        "  You should use np.random.RandomState to construct a random number generator, say rnd\r\n",
        "  Then use rnd.randn along with your BATCH and LATENT_DIMENSION to generate your latent codes. \r\n",
        "  This samples a batch of latent codes from a normal distribution \r\n",
        "  https://numpy.org/doc/stable/reference/random/generated/numpy.random.RandomState.randn.html\r\n",
        "  \r\n",
        "  Return latent_codes, which is a 2D array with dimensions BATCH times LATENT_DIMENSION \r\n",
        "  \"\"\"\r\n",
        "  ################################################################################\r\n",
        "  ########################## COMPLETE THE FOLLOWING ##############################\r\n",
        "  ################################################################################\r\n",
        "  latent_codes = ...\r\n",
        "  ################################################################################\r\n",
        "  return latent_codes"
      ],
      "execution_count": null,
      "outputs": []
    },
    {
      "cell_type": "code",
      "metadata": {
        "id": "N8giN3BfibqG"
      },
      "source": [
        "# Sample images from your latent codes https://github.com/NVlabs/stylegan\r\n",
        "# You can use their default settings\r\n",
        "\r\n",
        "################################################################################\r\n",
        "########################## COMPLETE THE FOLLOWING ##############################\r\n",
        "################################################################################\r\n",
        "def generate_images(SEED, BATCH, TRUNCATION = 0.7):\r\n",
        "  \"\"\"\r\n",
        "  This function generates a batch of images from latent codes. \r\n",
        "  \r\n",
        "  - SEED: int\r\n",
        "  - BATCH: int that specifies the number of latent codes to be generated\r\n",
        "  - TRUNCATION: float between [-1, 1] that decides the amount of clipping to apply to the latent code distribution\r\n",
        "              recommended setting is 0.7\r\n",
        "\r\n",
        "  You will use Gs.run() to sample images. See https://github.com/NVlabs/stylegan for details\r\n",
        "  You may use their default setting.  \r\n",
        "  \"\"\" \r\n",
        "  # Sample a batch of latent code z using generate_latent_code function\r\n",
        "  latent_codes = ...\r\n",
        "\r\n",
        "  # Convert latent code into images by following https://github.com/NVlabs/stylegan\r\n",
        "  fmt = dict(...) \r\n",
        "  images = Gs.run(...)\r\n",
        "  return PIL.Image.fromarray(np.concatenate(images, axis=1) , 'RGB')\r\n",
        "################################################################################"
      ],
      "execution_count": null,
      "outputs": []
    },
    {
      "cell_type": "code",
      "metadata": {
        "id": "bdaxzuAFcTM8"
      },
      "source": [
        "# Generate your images\r\n",
        "generate_images(...)"
      ],
      "execution_count": null,
      "outputs": []
    },
    {
      "cell_type": "markdown",
      "metadata": {
        "id": "z9Jre5OXbUHD"
      },
      "source": [
        "## **Part 2 Interpolation**\r\n",
        "\r\n",
        "Complete the interpolate_images function using linear interpolation between two latent codes,\r\n",
        "\\begin{equation}\r\n",
        "    z = r z_1 + (1-r) z_2,  r \\in [0, 1]\r\n",
        "\\end{equation}\r\n",
        "and feeding this interpolation through the StyleGAN2-Ada generator Gs as done in generate_images. Include a small row of interpolation in your PDF submission as a screen shot if necessary to keep the file size small. "
      ]
    },
    {
      "cell_type": "code",
      "metadata": {
        "id": "fUwCVd9mlDOr"
      },
      "source": [
        "################################################################################\r\n",
        "########################## COMPLETE THE FOLLOWING ##############################\r\n",
        "################################################################################\r\n",
        "def interpolate_images(SEED1, SEED2, INTERPOLATION, BATCH = 1, TRUNCATION = 0.7):\r\n",
        "  \"\"\"\r\n",
        "  - SEED1, SEED2: int, seed to use to generate the two latent codes\r\n",
        "  - INTERPOLATION: int, the number of interpolation between the two images, recommended setting 6 - 10\r\n",
        "  - BATCH: int, the number of latent code to generate. In this experiment, it is 1. \r\n",
        "  - TRUNCATION: float between [-1, 1] that decides the amount of clipping to apply to the latent code distribution\r\n",
        "              recommended setting is 0.7\r\n",
        "\r\n",
        "  You will interpolate between two latent code that you generate using the above formula\r\n",
        "  You can generate an interpolation variable using np.linspace\r\n",
        "  https://numpy.org/doc/stable/reference/generated/numpy.linspace.html\r\n",
        "  \r\n",
        "  This function should return an interpolated image. Include a screenshot in your submission.\r\n",
        "  \"\"\"\r\n",
        "  latent_code_1 = ...\r\n",
        "  latent_code_2 = ...\r\n",
        "  images = Gs.run(...)\r\n",
        "  \r\n",
        "  return PIL.Image.fromarray(np.concatenate(images, axis=1) , 'RGB')\r\n",
        "################################################################################"
      ],
      "execution_count": null,
      "outputs": []
    },
    {
      "cell_type": "code",
      "metadata": {
        "id": "fV4Df5J8lZLy"
      },
      "source": [
        "# Create an interpolation of your generated images\r\n",
        "interpolate_images(...)"
      ],
      "execution_count": null,
      "outputs": []
    },
    {
      "cell_type": "markdown",
      "metadata": {
        "id": "o5HUpzB0T5LN"
      },
      "source": [
        "After you have generated interpolated images, an interesting task would be to see how you can create a GIF. Feel free to explore a little bit more. "
      ]
    },
    {
      "cell_type": "markdown",
      "metadata": {
        "id": "CV2tsaAhaTzg"
      },
      "source": [
        "## **Part 3 Style Mixing and Fine Control**\r\n",
        "In the final part, you will reproduce the famous style mixing example from the original StyleGAN paper.\r\n",
        "\r\n",
        "### Step 1. We will first learn how to generate from sub-networks of the StyleGAN generator. "
      ]
    },
    {
      "cell_type": "code",
      "metadata": {
        "id": "QG-xbj9qtMTA"
      },
      "source": [
        "# You will generate images from sub-networks of the StyleGAN generator\r\n",
        "# Similar to Gs, the sub-networks are represented as independent instances of dnnlib.tflib.Network\r\n",
        "# Complete the function by following \\url{https://github.com/NVlabs/stylegan} \r\n",
        "# And Look up Gs.components.mapping,  Gs.components.synthesism, Gs.get_var\r\n",
        "# Remember to use the truncation trick as described in the handout after you obtain src_dlatents from Gs.components.mapping.run\r\n",
        "def generate_from_subnetwork(src_seeds, LATENT_DIMENSION = 512):\r\n",
        "    \"\"\"\r\n",
        "    - src_seeds: a list of int, where each int is used to generate a latent code, e.g., [1,2,3]\r\n",
        "    - LATENT_DIMENSION: by default 512\r\n",
        "\r\n",
        "    You will complete the code snippet in the Write Your Code Here block\r\n",
        "    This generates several images from a sub-network of the genrator. \r\n",
        "\r\n",
        "    To prevent mistakes, we have provided the variable names which corresponds to the ones in the StyleGAN documentation\r\n",
        "    You should use their convention. \r\n",
        "    \"\"\"\r\n",
        "\r\n",
        "    # default arguments to Gs.components.synthesis.run, this is given to you. \r\n",
        "    synthesis_kwargs = {\r\n",
        "        'output_transform': dict(func=tflib.convert_images_to_uint8, nchw_to_nhwc=True),\r\n",
        "        'randomize_noise': False,\r\n",
        "        'minibatch_size': 4\r\n",
        "    }\r\n",
        "    ############################################################################\r\n",
        "    ########################## WRITE YOUR CODE HERE ############################\r\n",
        "    ############################################################################\r\n",
        "    truncation = ...\r\n",
        "    src_latents =  ...\r\n",
        "    src_dlatents =  ...\r\n",
        "    w_avg = ...\r\n",
        "    src_dlatents = ... \r\n",
        "    all_images = Gs.components.synthesis.run(...)\r\n",
        "    ############################################################################\r\n",
        "    return PIL.Image.fromarray(np.concatenate(all_images, axis=1) , 'RGB')"
      ],
      "execution_count": null,
      "outputs": []
    },
    {
      "cell_type": "code",
      "metadata": {
        "id": "BI0vEoYdtbJk"
      },
      "source": [
        "# generate several iamges from the sub-network\r\n",
        "generate_from_subnetwork(...)"
      ],
      "execution_count": null,
      "outputs": []
    },
    {
      "cell_type": "markdown",
      "metadata": {
        "id": "3QOHpSmoGrZI"
      },
      "source": [
        "### Step 2. Initialize the col_seeds, row_seeds and col_styles and generate a grid of image. \r\n",
        "\r\n",
        "A recommended example for your experiment is as follows:\r\n",
        "\r\n",
        "*  col_seeds = [1, 2, 3, 4, 5]\r\n",
        "*  row_seeds = [6]\r\n",
        "*  col_styles = [1, 2, 3, 4, 5]\r\n",
        "\r\n",
        "and\r\n",
        "\r\n",
        "*  col_seeds = [1, 2, 3, 4, 5]\r\n",
        "*  row_seeds = [6]\r\n",
        "*  col_styles = [8, 9, 10, 11, 12]\r\n",
        "\r\n",
        "You will then incorporate your code from generate from sub_network into the cell below. \r\n",
        "\r\n",
        "Experiment with the col_styles variable. Explain what col_styles does, for instance, roughly describe what these numbers corresponds to. Create a simple experiment to backup your argument. Include **at maximum two** sets of images that illustrates the effect of changing col_styles and your explanation. Include them as screen shots to minimize the size of the file.\r\n",
        "\r\n",
        "Make reference to the original StyleGAN or the StyleGAN2 paper by Karras et al. as needed https://arxiv.org/pdf/1812.04948.pdf https://arxiv.org/pdf/1912.04958.pdf"
      ]
    },
    {
      "cell_type": "code",
      "metadata": {
        "id": "TM4QvAkuwCjW"
      },
      "source": [
        "################################################################################\r\n",
        "####################COMPLETE THE NEXT THREE LINES###############################\r\n",
        "################################################################################\r\n",
        "col_seeds = ...\r\n",
        "row_seeds = ...\r\n",
        "col_styles = ...\r\n",
        "################################################################################\r\n",
        "src_seeds = list(set(row_seeds + col_seeds))\r\n",
        "\r\n",
        "# default arguments to Gs.components.synthesis.run, do not change\r\n",
        "synthesis_kwargs = {\r\n",
        "    'output_transform': dict(func=tflib.convert_images_to_uint8, nchw_to_nhwc=True),\r\n",
        "    'randomize_noise': False,\r\n",
        "    'minibatch_size': 4\r\n",
        "}\r\n",
        "################################################################################\r\n",
        "########################## COMPLETE THE FOLLOWING ##############################\r\n",
        "################################################################################\r\n",
        "# Copy the   #### WRITE YOUR CODE HERE #### portion from generate_from_subnetwork()\r\n",
        "\r\n",
        "all_images = Gs.components.synthesis.run(...) \r\n",
        "################################################################################\r\n",
        "\r\n",
        "# (Do not change)\r\n",
        "image_dict = {(seed, seed): image for seed, image in zip(src_seeds, list(all_images))}\r\n",
        "w_dict = {seed: w for seed, w in zip(src_seeds, list(src_dlatents))} \r\n",
        "\r\n",
        "# Generating Images (Do not Change)\r\n",
        "for row_seed in row_seeds:\r\n",
        "    for col_seed in col_seeds:\r\n",
        "        w = w_dict[row_seed].copy()\r\n",
        "        w[col_styles] = w_dict[col_seed][col_styles]\r\n",
        "        image = Gs.components.synthesis.run(w[np.newaxis], **synthesis_kwargs)[0]\r\n",
        "        image_dict[(row_seed, col_seed)] = image\r\n",
        "\r\n",
        "# Create an Image Grid (Do not Change)\r\n",
        "def create_grid_images(): \r\n",
        "  _N, _C, H, W = Gs.output_shape\r\n",
        "  canvas = PIL.Image.new('RGB', (W * (len(col_seeds) + 1), H * (len(row_seeds) + 1)), 'black')\r\n",
        "  for row_idx, row_seed in enumerate([None] + row_seeds):\r\n",
        "      for col_idx, col_seed in enumerate([None] + col_seeds):\r\n",
        "          if row_seed is None and col_seed is None:\r\n",
        "              continue\r\n",
        "          key = (row_seed, col_seed)\r\n",
        "          if row_seed is None:\r\n",
        "              key = (col_seed, col_seed)\r\n",
        "          if col_seed is None:\r\n",
        "              key = (row_seed, row_seed)\r\n",
        "          canvas.paste(PIL.Image.fromarray(image_dict[key], 'RGB'), (W * col_idx, H * row_idx))\r\n",
        "  return canvas\r\n",
        "\r\n",
        "# The following code will create your image, save it as a png, and display the image\r\n",
        "# Run the following code after you have set your row_seed, col_seed and col_style\r\n",
        "image_grid = create_grid_images()\r\n",
        "image_grid.save('image_grid.png')\r\n",
        "im = Image.open(\"image_grid.png\")\r\n",
        "im"
      ],
      "execution_count": null,
      "outputs": []
    }
  ]
}
